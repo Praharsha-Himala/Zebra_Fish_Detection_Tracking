{
 "cells": [
  {
   "cell_type": "code",
   "execution_count": 2,
   "metadata": {},
   "outputs": [],
   "source": [
    "import os\n",
    "import cv2\n",
    "import numpy as np\n",
    "import pandas as pd"
   ]
  },
  {
   "cell_type": "code",
   "execution_count": null,
   "metadata": {},
   "outputs": [],
   "source": [
    "image_folder = r\"E:\\Downloads\\subset\\images_train\"\n",
    "label_folder = r\"E:\\Downloads\\subset\\labels_train\"\n",
    "\n",
    "x_test = []\n",
    "y_test = []"
   ]
  },
  {
   "cell_type": "code",
   "execution_count": null,
   "metadata": {},
   "outputs": [
    {
     "name": "stdout",
     "output_type": "stream",
     "text": [
      "E:\\Downloads\\subset\\labels_train\\1Lcrop279.jpg.txt\n",
      "E:\\Downloads\\subset\\labels_train\\1Lcrop307.jpg.txt\n",
      "E:\\Downloads\\subset\\labels_train\\1Lcrop316.jpg.txt\n",
      "X_train shape: (3, 224, 224, 3)\n",
      "Y_train shape: (3, 4)\n"
     ]
    }
   ],
   "source": [
    "for image_file in sorted(os.listdir(image_folder)):\n",
    "    if image_file.endswith(('.jpg', '.png', '.jpeg')):\n",
    "        # Read the image\n",
    "        img_path = os.path.join(image_folder, image_file)\n",
    "        img = cv2.imread(img_path)\n",
    "        img_resized = cv2.resize(img, (224, 224))\n",
    "        img_normalized = img_resized / 255.0\n",
    "        \n",
    "        x_test.append(img_normalized)\n",
    "        # Construct the corresponding label file name\n",
    "        label_file = os.path.splitext(image_file)[0] + '.txt'\n",
    "        label_path = os.path.join(label_folder, label_file)\n",
    "        print(label_path)\n",
    "        with open(label_path, 'r') as f:\n",
    "            label_data = f.readline().strip().split()\n",
    "            p1, p2, p3, p4 = map(lambda x: round(float(x), 2), label_data[1:])\n",
    "            y_test.append([p1, p2, p3, p4])\n",
    "\n",
    "\n",
    "# Convert lists to numpy arrays\n",
    "X_train = np.array(x_test)  \n",
    "Y_train = np.array(y_test)\n",
    "\n",
    "# Output shapes\n",
    "print(f'X_train shape: {x_test.shape}')\n",
    "print(f'Y_train shape: {y_test.shape}')\n"
   ]
  },
  {
   "cell_type": "code",
   "execution_count": null,
   "metadata": {},
   "outputs": [],
   "source": [
    "save_folder = r\"E:\\Downloads\\subset\"\n",
    "\n",
    "# Create the folder if it doesn't exist\n",
    "os.makedirs(save_folder, exist_ok=True)\n",
    "\n",
    "# Convert lists to numpy arrays\n",
    "X_train = np.array(x_test)\n",
    "Y_train = np.array(y_test)\n",
    "\n",
    "# Save the arrays as .npy files\n",
    "np.save(os.path.join(save_folder, \"x_test.npy\"), X_train)\n",
    "np.save(os.path.join(save_folder, \"y_test.npy\"), Y_train)"
   ]
  }
 ],
 "metadata": {
  "kernelspec": {
   "display_name": "Python 3",
   "language": "python",
   "name": "python3"
  },
  "language_info": {
   "codemirror_mode": {
    "name": "ipython",
    "version": 3
   },
   "file_extension": ".py",
   "mimetype": "text/x-python",
   "name": "python",
   "nbconvert_exporter": "python",
   "pygments_lexer": "ipython3",
   "version": "3.11.9"
  }
 },
 "nbformat": 4,
 "nbformat_minor": 2
}
